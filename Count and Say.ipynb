{
 "cells": [
  {
   "cell_type": "code",
   "execution_count": null,
   "metadata": {},
   "outputs": [],
   "source": [
    "1.     1\n",
    "2.     11\n",
    "3.     21\n",
    "4.     1211\n",
    "5.     111221"
   ]
  },
  {
   "cell_type": "code",
   "execution_count": 10,
   "metadata": {},
   "outputs": [],
   "source": [
    "def countAndSay(n):\n",
    "    s = '1'\n",
    "    cnt = 0\n",
    "    if n == 1:\n",
    "        return n\n",
    "    else:\n",
    "        for x in range(n):\n",
    "\n",
    "            for y in range(len(s)-1):\n",
    "\n",
    "                if s[y] == s[y+1]:\n",
    "                    cnt += 1\n",
    "                else:\n",
    "                    s = s + str(cnt)\n",
    "                    cnt = 0\n",
    "    return s\n"
   ]
  },
  {
   "cell_type": "code",
   "execution_count": 17,
   "metadata": {},
   "outputs": [],
   "source": [
    "def countAndSay(n):\n",
    "    \"\"\"\n",
    "    :type n: int\n",
    "    :rtype: str\n",
    "    \"\"\"\n",
    "    s = '1'\n",
    "    for i in range(n-1):\n",
    "        count = 1\n",
    "        temp = []\n",
    "        for index in range(1, len(s)):\n",
    "            if s[index] == s[index-1]:\n",
    "                count += 1\n",
    "            else:\n",
    "                temp.append(str(count))\n",
    "                temp.append(s[index-1])\n",
    "                count = 1\n",
    "                print(temp)\n",
    "        temp.append(str(count))\n",
    "        temp.append(s[-1])\n",
    "        s = ''.join(temp)\n",
    "    return s"
   ]
  },
  {
   "cell_type": "code",
   "execution_count": 33,
   "metadata": {},
   "outputs": [],
   "source": [
    "def next_number(x):\n",
    "    i = 0\n",
    "    result = []\n",
    "    while i < len(x):\n",
    "        count = 1\n",
    "        while i + 1 < len(x) and x[i] == x[i+1]:\n",
    "            i += 1\n",
    "            count += 1\n",
    "        result.append(str(count) + x[i])\n",
    "        i += 1\n",
    "    return ''.join(result)\n",
    "        "
   ]
  },
  {
   "cell_type": "code",
   "execution_count": 34,
   "metadata": {},
   "outputs": [
    {
     "data": {
      "text/plain": [
       "'21'"
      ]
     },
     "execution_count": 34,
     "metadata": {},
     "output_type": "execute_result"
    }
   ],
   "source": [
    "next_number('11')"
   ]
  },
  {
   "cell_type": "code",
   "execution_count": 35,
   "metadata": {},
   "outputs": [],
   "source": [
    "n = 4"
   ]
  },
  {
   "cell_type": "code",
   "execution_count": 36,
   "metadata": {},
   "outputs": [
    {
     "name": "stdout",
     "output_type": "stream",
     "text": [
      "11\n",
      "21\n",
      "1211\n"
     ]
    }
   ],
   "source": [
    "s = '1'\n",
    "for i in range(n-1):\n",
    "    s = next_number(s)\n",
    "    print(s)\n",
    "# print(s)"
   ]
  },
  {
   "cell_type": "code",
   "execution_count": 20,
   "metadata": {},
   "outputs": [
    {
     "data": {
      "text/plain": [
       "'21'"
      ]
     },
     "execution_count": 20,
     "metadata": {},
     "output_type": "execute_result"
    }
   ],
   "source": [
    "countAndSay(3)"
   ]
  },
  {
   "cell_type": "code",
   "execution_count": 7,
   "metadata": {},
   "outputs": [
    {
     "data": {
      "text/plain": [
       "[]"
      ]
     },
     "execution_count": 7,
     "metadata": {},
     "output_type": "execute_result"
    }
   ],
   "source": [
    "list(range(0))"
   ]
  },
  {
   "cell_type": "code",
   "execution_count": null,
   "metadata": {},
   "outputs": [],
   "source": []
  }
 ],
 "metadata": {
  "kernelspec": {
   "display_name": "Python 3",
   "language": "python",
   "name": "python3"
  },
  "language_info": {
   "codemirror_mode": {
    "name": "ipython",
    "version": 3
   },
   "file_extension": ".py",
   "mimetype": "text/x-python",
   "name": "python",
   "nbconvert_exporter": "python",
   "pygments_lexer": "ipython3",
   "version": "3.7.4"
  }
 },
 "nbformat": 4,
 "nbformat_minor": 2
}
